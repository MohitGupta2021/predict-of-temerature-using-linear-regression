{
  "nbformat": 4,
  "nbformat_minor": 0,
  "metadata": {
    "colab": {
      "name": "classification of temperature reading using linear Regression",
      "provenance": [],
      "authorship_tag": "ABX9TyP2YqUQxLJ/ygAmjX8cw4CA",
      "include_colab_link": true
    },
    "kernelspec": {
      "name": "python3",
      "display_name": "Python 3"
    },
    "language_info": {
      "name": "python"
    }
  },
  "cells": [
    {
      "cell_type": "markdown",
      "metadata": {
        "id": "view-in-github",
        "colab_type": "text"
      },
      "source": [
        "<a href=\"https://colab.research.google.com/github/MohitGupta2021/predict-of-temerature-using-linear-regression/blob/main/classification_of_temperature_reading_using_linear_Regression.ipynb\" target=\"_parent\"><img src=\"https://colab.research.google.com/assets/colab-badge.svg\" alt=\"Open In Colab\"/></a>"
      ]
    },
    {
      "cell_type": "code",
      "metadata": {
        "id": "KoMnYfFCsGGA"
      },
      "source": [
        "import pandas as pd\n",
        "import numpy as np\n",
        "from google.colab import files"
      ],
      "execution_count": 44,
      "outputs": []
    },
    {
      "cell_type": "code",
      "metadata": {
        "id": "DISN6udXsXGy"
      },
      "source": [
        ""
      ],
      "execution_count": 44,
      "outputs": []
    },
    {
      "cell_type": "code",
      "metadata": {
        "id": "dPnjUDWwsXKG"
      },
      "source": [
        ""
      ],
      "execution_count": 44,
      "outputs": []
    },
    {
      "cell_type": "code",
      "metadata": {
        "id": "gXqXddZ4sl0f"
      },
      "source": [
        ""
      ],
      "execution_count": 44,
      "outputs": []
    },
    {
      "cell_type": "code",
      "metadata": {
        "id": "3zBpnZ8nsl3B"
      },
      "source": [
        "df=pd.read_csv('/content/IOT-temp.csv')"
      ],
      "execution_count": 45,
      "outputs": []
    },
    {
      "cell_type": "code",
      "metadata": {
        "colab": {
          "base_uri": "https://localhost:8080/",
          "height": 203
        },
        "id": "VSKfpb7hsl6b",
        "outputId": "9bdb43e1-73d7-41d5-f069-8965585e13fe"
      },
      "source": [
        "df.head()"
      ],
      "execution_count": 46,
      "outputs": [
        {
          "output_type": "execute_result",
          "data": {
            "text/html": [
              "<div>\n",
              "<style scoped>\n",
              "    .dataframe tbody tr th:only-of-type {\n",
              "        vertical-align: middle;\n",
              "    }\n",
              "\n",
              "    .dataframe tbody tr th {\n",
              "        vertical-align: top;\n",
              "    }\n",
              "\n",
              "    .dataframe thead th {\n",
              "        text-align: right;\n",
              "    }\n",
              "</style>\n",
              "<table border=\"1\" class=\"dataframe\">\n",
              "  <thead>\n",
              "    <tr style=\"text-align: right;\">\n",
              "      <th></th>\n",
              "      <th>id</th>\n",
              "      <th>room_id/id</th>\n",
              "      <th>noted_date</th>\n",
              "      <th>temp</th>\n",
              "      <th>out/in</th>\n",
              "    </tr>\n",
              "  </thead>\n",
              "  <tbody>\n",
              "    <tr>\n",
              "      <th>0</th>\n",
              "      <td>__export__.temp_log_196134_bd201015</td>\n",
              "      <td>Room Admin</td>\n",
              "      <td>08-12-2018 09:30</td>\n",
              "      <td>29</td>\n",
              "      <td>In</td>\n",
              "    </tr>\n",
              "    <tr>\n",
              "      <th>1</th>\n",
              "      <td>__export__.temp_log_196131_7bca51bc</td>\n",
              "      <td>Room Admin</td>\n",
              "      <td>08-12-2018 09:30</td>\n",
              "      <td>29</td>\n",
              "      <td>In</td>\n",
              "    </tr>\n",
              "    <tr>\n",
              "      <th>2</th>\n",
              "      <td>__export__.temp_log_196127_522915e3</td>\n",
              "      <td>Room Admin</td>\n",
              "      <td>08-12-2018 09:29</td>\n",
              "      <td>41</td>\n",
              "      <td>Out</td>\n",
              "    </tr>\n",
              "    <tr>\n",
              "      <th>3</th>\n",
              "      <td>__export__.temp_log_196128_be0919cf</td>\n",
              "      <td>Room Admin</td>\n",
              "      <td>08-12-2018 09:29</td>\n",
              "      <td>41</td>\n",
              "      <td>Out</td>\n",
              "    </tr>\n",
              "    <tr>\n",
              "      <th>4</th>\n",
              "      <td>__export__.temp_log_196126_d30b72fb</td>\n",
              "      <td>Room Admin</td>\n",
              "      <td>08-12-2018 09:29</td>\n",
              "      <td>31</td>\n",
              "      <td>In</td>\n",
              "    </tr>\n",
              "  </tbody>\n",
              "</table>\n",
              "</div>"
            ],
            "text/plain": [
              "                                    id  room_id/id  ... temp  out/in\n",
              "0  __export__.temp_log_196134_bd201015  Room Admin  ...   29      In\n",
              "1  __export__.temp_log_196131_7bca51bc  Room Admin  ...   29      In\n",
              "2  __export__.temp_log_196127_522915e3  Room Admin  ...   41     Out\n",
              "3  __export__.temp_log_196128_be0919cf  Room Admin  ...   41     Out\n",
              "4  __export__.temp_log_196126_d30b72fb  Room Admin  ...   31      In\n",
              "\n",
              "[5 rows x 5 columns]"
            ]
          },
          "metadata": {},
          "execution_count": 46
        }
      ]
    },
    {
      "cell_type": "code",
      "metadata": {
        "colab": {
          "base_uri": "https://localhost:8080/"
        },
        "id": "aRgYsQKis_OH",
        "outputId": "180f823c-66fe-4619-dd4e-6eaa02b06401"
      },
      "source": [
        "df.info()"
      ],
      "execution_count": 47,
      "outputs": [
        {
          "output_type": "stream",
          "name": "stdout",
          "text": [
            "<class 'pandas.core.frame.DataFrame'>\n",
            "RangeIndex: 97606 entries, 0 to 97605\n",
            "Data columns (total 5 columns):\n",
            " #   Column      Non-Null Count  Dtype \n",
            "---  ------      --------------  ----- \n",
            " 0   id          97606 non-null  object\n",
            " 1   room_id/id  97606 non-null  object\n",
            " 2   noted_date  97606 non-null  object\n",
            " 3   temp        97606 non-null  int64 \n",
            " 4   out/in      97606 non-null  object\n",
            "dtypes: int64(1), object(4)\n",
            "memory usage: 3.7+ MB\n"
          ]
        }
      ]
    },
    {
      "cell_type": "code",
      "metadata": {
        "id": "lG23UlUMtY-N"
      },
      "source": [
        ""
      ],
      "execution_count": 47,
      "outputs": []
    },
    {
      "cell_type": "code",
      "metadata": {
        "colab": {
          "base_uri": "https://localhost:8080/"
        },
        "id": "p7enjc4Hs_Rs",
        "outputId": "a89c232b-5fd4-407f-9918-07f1540baec1"
      },
      "source": [
        "len(df['id'].unique())"
      ],
      "execution_count": 48,
      "outputs": [
        {
          "output_type": "execute_result",
          "data": {
            "text/plain": [
              "97605"
            ]
          },
          "metadata": {},
          "execution_count": 48
        }
      ]
    },
    {
      "cell_type": "code",
      "metadata": {
        "colab": {
          "base_uri": "https://localhost:8080/"
        },
        "id": "5TifZy1xtdQW",
        "outputId": "75af6315-fa48-4ed3-afeb-835f3deba260"
      },
      "source": [
        "df['room_id/id'].unique()"
      ],
      "execution_count": 49,
      "outputs": [
        {
          "output_type": "execute_result",
          "data": {
            "text/plain": [
              "array(['Room Admin'], dtype=object)"
            ]
          },
          "metadata": {},
          "execution_count": 49
        }
      ]
    },
    {
      "cell_type": "code",
      "metadata": {
        "colab": {
          "base_uri": "https://localhost:8080/",
          "height": 295
        },
        "id": "UuoHAvZatdTx",
        "outputId": "ee0879f7-d2b1-47ab-b38b-e5b88078ccb5"
      },
      "source": [
        "df.describe()"
      ],
      "execution_count": 50,
      "outputs": [
        {
          "output_type": "execute_result",
          "data": {
            "text/html": [
              "<div>\n",
              "<style scoped>\n",
              "    .dataframe tbody tr th:only-of-type {\n",
              "        vertical-align: middle;\n",
              "    }\n",
              "\n",
              "    .dataframe tbody tr th {\n",
              "        vertical-align: top;\n",
              "    }\n",
              "\n",
              "    .dataframe thead th {\n",
              "        text-align: right;\n",
              "    }\n",
              "</style>\n",
              "<table border=\"1\" class=\"dataframe\">\n",
              "  <thead>\n",
              "    <tr style=\"text-align: right;\">\n",
              "      <th></th>\n",
              "      <th>temp</th>\n",
              "    </tr>\n",
              "  </thead>\n",
              "  <tbody>\n",
              "    <tr>\n",
              "      <th>count</th>\n",
              "      <td>97606.000000</td>\n",
              "    </tr>\n",
              "    <tr>\n",
              "      <th>mean</th>\n",
              "      <td>35.053931</td>\n",
              "    </tr>\n",
              "    <tr>\n",
              "      <th>std</th>\n",
              "      <td>5.699825</td>\n",
              "    </tr>\n",
              "    <tr>\n",
              "      <th>min</th>\n",
              "      <td>21.000000</td>\n",
              "    </tr>\n",
              "    <tr>\n",
              "      <th>25%</th>\n",
              "      <td>30.000000</td>\n",
              "    </tr>\n",
              "    <tr>\n",
              "      <th>50%</th>\n",
              "      <td>35.000000</td>\n",
              "    </tr>\n",
              "    <tr>\n",
              "      <th>75%</th>\n",
              "      <td>40.000000</td>\n",
              "    </tr>\n",
              "    <tr>\n",
              "      <th>max</th>\n",
              "      <td>51.000000</td>\n",
              "    </tr>\n",
              "  </tbody>\n",
              "</table>\n",
              "</div>"
            ],
            "text/plain": [
              "               temp\n",
              "count  97606.000000\n",
              "mean      35.053931\n",
              "std        5.699825\n",
              "min       21.000000\n",
              "25%       30.000000\n",
              "50%       35.000000\n",
              "75%       40.000000\n",
              "max       51.000000"
            ]
          },
          "metadata": {},
          "execution_count": 50
        }
      ]
    },
    {
      "cell_type": "code",
      "metadata": {
        "id": "wyGw7o1KtpDu"
      },
      "source": [
        "data=df.iloc[:,3:]"
      ],
      "execution_count": 51,
      "outputs": []
    },
    {
      "cell_type": "code",
      "metadata": {
        "colab": {
          "base_uri": "https://localhost:8080/",
          "height": 203
        },
        "id": "qTfyBhWjtpHH",
        "outputId": "7b3e2298-4c3e-4d6f-c3f6-f8a1e40cc89c"
      },
      "source": [
        "data.head()"
      ],
      "execution_count": 52,
      "outputs": [
        {
          "output_type": "execute_result",
          "data": {
            "text/html": [
              "<div>\n",
              "<style scoped>\n",
              "    .dataframe tbody tr th:only-of-type {\n",
              "        vertical-align: middle;\n",
              "    }\n",
              "\n",
              "    .dataframe tbody tr th {\n",
              "        vertical-align: top;\n",
              "    }\n",
              "\n",
              "    .dataframe thead th {\n",
              "        text-align: right;\n",
              "    }\n",
              "</style>\n",
              "<table border=\"1\" class=\"dataframe\">\n",
              "  <thead>\n",
              "    <tr style=\"text-align: right;\">\n",
              "      <th></th>\n",
              "      <th>temp</th>\n",
              "      <th>out/in</th>\n",
              "    </tr>\n",
              "  </thead>\n",
              "  <tbody>\n",
              "    <tr>\n",
              "      <th>0</th>\n",
              "      <td>29</td>\n",
              "      <td>In</td>\n",
              "    </tr>\n",
              "    <tr>\n",
              "      <th>1</th>\n",
              "      <td>29</td>\n",
              "      <td>In</td>\n",
              "    </tr>\n",
              "    <tr>\n",
              "      <th>2</th>\n",
              "      <td>41</td>\n",
              "      <td>Out</td>\n",
              "    </tr>\n",
              "    <tr>\n",
              "      <th>3</th>\n",
              "      <td>41</td>\n",
              "      <td>Out</td>\n",
              "    </tr>\n",
              "    <tr>\n",
              "      <th>4</th>\n",
              "      <td>31</td>\n",
              "      <td>In</td>\n",
              "    </tr>\n",
              "  </tbody>\n",
              "</table>\n",
              "</div>"
            ],
            "text/plain": [
              "   temp out/in\n",
              "0    29     In\n",
              "1    29     In\n",
              "2    41    Out\n",
              "3    41    Out\n",
              "4    31     In"
            ]
          },
          "metadata": {},
          "execution_count": 52
        }
      ]
    },
    {
      "cell_type": "code",
      "metadata": {
        "colab": {
          "base_uri": "https://localhost:8080/"
        },
        "id": "hbjNRcp4tJQJ",
        "outputId": "8a69bbc2-0319-4b5d-811f-8ee9a421ca0d"
      },
      "source": [
        "data.shape"
      ],
      "execution_count": 53,
      "outputs": [
        {
          "output_type": "execute_result",
          "data": {
            "text/plain": [
              "(97606, 2)"
            ]
          },
          "metadata": {},
          "execution_count": 53
        }
      ]
    },
    {
      "cell_type": "code",
      "metadata": {
        "id": "IK7BQL3QtJTo"
      },
      "source": [
        "from sklearn.preprocessing import LabelEncoder\n",
        "le=LabelEncoder()\n",
        "data['out/in']=le.fit_transform(data['out/in'])"
      ],
      "execution_count": 54,
      "outputs": []
    },
    {
      "cell_type": "code",
      "metadata": {
        "colab": {
          "base_uri": "https://localhost:8080/",
          "height": 203
        },
        "id": "mNDuvZuCuKvD",
        "outputId": "c4ff02e2-c7ce-4d72-bf1e-1f3126a5df43"
      },
      "source": [
        "data.head()"
      ],
      "execution_count": 55,
      "outputs": [
        {
          "output_type": "execute_result",
          "data": {
            "text/html": [
              "<div>\n",
              "<style scoped>\n",
              "    .dataframe tbody tr th:only-of-type {\n",
              "        vertical-align: middle;\n",
              "    }\n",
              "\n",
              "    .dataframe tbody tr th {\n",
              "        vertical-align: top;\n",
              "    }\n",
              "\n",
              "    .dataframe thead th {\n",
              "        text-align: right;\n",
              "    }\n",
              "</style>\n",
              "<table border=\"1\" class=\"dataframe\">\n",
              "  <thead>\n",
              "    <tr style=\"text-align: right;\">\n",
              "      <th></th>\n",
              "      <th>temp</th>\n",
              "      <th>out/in</th>\n",
              "    </tr>\n",
              "  </thead>\n",
              "  <tbody>\n",
              "    <tr>\n",
              "      <th>0</th>\n",
              "      <td>29</td>\n",
              "      <td>0</td>\n",
              "    </tr>\n",
              "    <tr>\n",
              "      <th>1</th>\n",
              "      <td>29</td>\n",
              "      <td>0</td>\n",
              "    </tr>\n",
              "    <tr>\n",
              "      <th>2</th>\n",
              "      <td>41</td>\n",
              "      <td>1</td>\n",
              "    </tr>\n",
              "    <tr>\n",
              "      <th>3</th>\n",
              "      <td>41</td>\n",
              "      <td>1</td>\n",
              "    </tr>\n",
              "    <tr>\n",
              "      <th>4</th>\n",
              "      <td>31</td>\n",
              "      <td>0</td>\n",
              "    </tr>\n",
              "  </tbody>\n",
              "</table>\n",
              "</div>"
            ],
            "text/plain": [
              "   temp  out/in\n",
              "0    29       0\n",
              "1    29       0\n",
              "2    41       1\n",
              "3    41       1\n",
              "4    31       0"
            ]
          },
          "metadata": {},
          "execution_count": 55
        }
      ]
    },
    {
      "cell_type": "markdown",
      "metadata": {
        "id": "7CodFG3QuP2f"
      },
      "source": [
        "in=0\n",
        "out=1\n"
      ]
    },
    {
      "cell_type": "code",
      "metadata": {
        "colab": {
          "base_uri": "https://localhost:8080/",
          "height": 214
        },
        "id": "CQwYwhjXuKx8",
        "outputId": "b8b7cef2-b49a-4911-f80e-314222852cd6"
      },
      "source": [
        "import seaborn  as sns\n",
        "sns.pairplot(data=data,hue='out/in')"
      ],
      "execution_count": 56,
      "outputs": [
        {
          "output_type": "execute_result",
          "data": {
            "text/plain": [
              "<seaborn.axisgrid.PairGrid at 0x7f286d929d50>"
            ]
          },
          "metadata": {},
          "execution_count": 56
        },
        {
          "output_type": "display_data",
          "data": {
            "image/png": "[encoded data removed]",
            "text/plain": [
              "<Figure size 216.875x180 with 2 Axes>"
            ]
          },
          "metadata": {
            "needs_background": "light"
          }
        }
      ]
    },
    {
      "cell_type": "code",
      "metadata": {
        "colab": {
          "base_uri": "https://localhost:8080/",
          "height": 279
        },
        "id": "2_1aIAxyuK1d",
        "outputId": "36f37519-9c51-4935-d976-0bc10be8bf58"
      },
      "source": [
        "import matplotlib.pyplot as plt\n",
        "plt.scatter(data['temp'],data['out/in'])\n",
        "plt.xlabel('Temperature')\n",
        "plt.ylabel('data In/out')\n",
        "plt.show()"
      ],
      "execution_count": 57,
      "outputs": [
        {
          "output_type": "display_data",
          "data": {
            "image/png": "[encoded data removed]",
            "text/plain": [
              "<Figure size 432x288 with 1 Axes>"
            ]
          },
          "metadata": {
            "needs_background": "light"
          }
        }
      ]
    },
    {
      "cell_type": "code",
      "metadata": {
        "colab": {
          "base_uri": "https://localhost:8080/"
        },
        "id": "gLHT1P_ltJeT",
        "outputId": "ae14a9b4-71ef-44b0-94b0-9f823f6047c0"
      },
      "source": [
        "X=data['temp'].values\n",
        "Y=data['out/in'].values\n",
        "print(X[0:5])"
      ],
      "execution_count": 58,
      "outputs": [
        {
          "output_type": "stream",
          "name": "stdout",
          "text": [
            "[29 29 41 41 31]\n"
          ]
        }
      ]
    },
    {
      "cell_type": "code",
      "metadata": {
        "colab": {
          "base_uri": "https://localhost:8080/"
        },
        "id": "Rz2gPXunv0K-",
        "outputId": "ac9c870e-bf8b-42f2-d988-ee33c64e28f4"
      },
      "source": [
        "X.shape"
      ],
      "execution_count": 59,
      "outputs": [
        {
          "output_type": "execute_result",
          "data": {
            "text/plain": [
              "(97606,)"
            ]
          },
          "metadata": {},
          "execution_count": 59
        }
      ]
    },
    {
      "cell_type": "code",
      "metadata": {
        "id": "YHL5tnm2v0OU"
      },
      "source": [
        "X=X.reshape(-1,1)"
      ],
      "execution_count": 60,
      "outputs": []
    },
    {
      "cell_type": "code",
      "metadata": {
        "colab": {
          "base_uri": "https://localhost:8080/"
        },
        "id": "ng4YR8qRv7PC",
        "outputId": "7fa10ff3-b4f1-4b47-fd27-a5899470f2e7"
      },
      "source": [
        "X"
      ],
      "execution_count": 61,
      "outputs": [
        {
          "output_type": "execute_result",
          "data": {
            "text/plain": [
              "array([[29],\n",
              "       [29],\n",
              "       [41],\n",
              "       ...,\n",
              "       [31],\n",
              "       [31],\n",
              "       [31]])"
            ]
          },
          "metadata": {},
          "execution_count": 61
        }
      ]
    },
    {
      "cell_type": "code",
      "metadata": {
        "colab": {
          "base_uri": "https://localhost:8080/"
        },
        "id": "0yyJsd0AtJg9",
        "outputId": "9a3db393-fb59-476d-f0c9-7d7edcd543bf"
      },
      "source": [
        "from sklearn.preprocessing import StandardScaler\n",
        "sc = StandardScaler()\n",
        "X = sc.fit_transform(X)\n",
        "print(X[0:5])"
      ],
      "execution_count": 62,
      "outputs": [
        {
          "output_type": "stream",
          "name": "stdout",
          "text": [
            "[[-1.06213116]\n",
            " [-1.06213116]\n",
            " [ 1.04320729]\n",
            " [ 1.04320729]\n",
            " [-0.71124142]]\n"
          ]
        }
      ]
    },
    {
      "cell_type": "code",
      "metadata": {
        "id": "A9vGRJnktJkY"
      },
      "source": [
        "from sklearn.model_selection import train_test_split\n",
        "X_train,X_test,Y_train,Y_test=train_test_split(X,Y,test_size=0.2)"
      ],
      "execution_count": 63,
      "outputs": []
    },
    {
      "cell_type": "code",
      "metadata": {
        "id": "GafeGY6E54xo"
      },
      "source": [
        "import tensorflow as tf\n",
        "from tensorflow import keras\n"
      ],
      "execution_count": 65,
      "outputs": []
    },
    {
      "cell_type": "code",
      "metadata": {
        "id": "K-yW8Nkx6RQX"
      },
      "source": [
        "input_shape=X.shape"
      ],
      "execution_count": 68,
      "outputs": []
    },
    {
      "cell_type": "code",
      "metadata": {
        "id": "3ZhMHiTis_UR"
      },
      "source": [
        "model = keras.models.Sequential([\n",
        "                                 \n",
        "            # The first layers must specify the input shape always\n",
        "            keras.layers.Dense(12, activation='relu', input_shape=input_shape),\n",
        "            keras.layers.Dense(24, activation='relu'),\n",
        "\n",
        "            # The last layer usually doesn't have activation function in regression\n",
        "            keras.layers.Dense(1)                \n",
        "\n",
        "])\n",
        "\n",
        "# Now we compile the model\n",
        "model.compile(loss='mean_squared_error', optimizer='adam')"
      ],
      "execution_count": 69,
      "outputs": []
    },
    {
      "cell_type": "code",
      "metadata": {
        "colab": {
          "base_uri": "https://localhost:8080/"
        },
        "id": "kG5khtpT6cRO",
        "outputId": "12a06ec1-b860-4700-eeac-44717f08c6d9"
      },
      "source": [
        "model.summary()"
      ],
      "execution_count": 70,
      "outputs": [
        {
          "output_type": "stream",
          "name": "stdout",
          "text": [
            "Model: \"sequential\"\n",
            "_________________________________________________________________\n",
            " Layer (type)                Output Shape              Param #   \n",
            "=================================================================\n",
            " dense (Dense)               (None, 97606, 12)         24        \n",
            "                                                                 \n",
            " dense_1 (Dense)             (None, 97606, 24)         312       \n",
            "                                                                 \n",
            " dense_2 (Dense)             (None, 97606, 1)          25        \n",
            "                                                                 \n",
            "=================================================================\n",
            "Total params: 361\n",
            "Trainable params: 361\n",
            "Non-trainable params: 0\n",
            "_________________________________________________________________\n"
          ]
        }
      ]
    },
    {
      "cell_type": "code",
      "metadata": {
        "colab": {
          "base_uri": "https://localhost:8080/"
        },
        "id": "2cpH1Jwm6cUq",
        "outputId": "a9d499cd-ba5b-4173-9634-6cbd22fb40dc"
      },
      "source": [
        "history=model.fit(X_train,Y_train,epochs=100)"
      ],
      "execution_count": 72,
      "outputs": [
        {
          "output_type": "stream",
          "name": "stdout",
          "text": [
            "Epoch 1/100\n",
            "WARNING:tensorflow:Model was constructed with shape (None, 97606, 1) for input KerasTensor(type_spec=TensorSpec(shape=(None, 97606, 1), dtype=tf.float32, name='dense_input'), name='dense_input', description=\"created by layer 'dense_input'\"), but it was called on an input with incompatible shape (None, 1, 1).\n",
            "WARNING:tensorflow:Model was constructed with shape (None, 97606, 1) for input KerasTensor(type_spec=TensorSpec(shape=(None, 97606, 1), dtype=tf.float32, name='dense_input'), name='dense_input', description=\"created by layer 'dense_input'\"), but it was called on an input with incompatible shape (None, 1, 1).\n",
            "2441/2441 [==============================] - 4s 1ms/step - loss: 0.1729\n",
            "Epoch 2/100\n",
            "2441/2441 [==============================] - 3s 1ms/step - loss: 0.1649\n",
            "Epoch 3/100\n",
            "2441/2441 [==============================] - 3s 1ms/step - loss: 0.1649\n",
            "Epoch 4/100\n",
            "2441/2441 [==============================] - 3s 1ms/step - loss: 0.1648\n",
            "Epoch 5/100\n",
            "2441/2441 [==============================] - 3s 1ms/step - loss: 0.1649\n",
            "Epoch 6/100\n",
            "2441/2441 [==============================] - 3s 1ms/step - loss: 0.1647\n",
            "Epoch 7/100\n",
            "2441/2441 [==============================] - 3s 1ms/step - loss: 0.1648\n",
            "Epoch 8/100\n",
            "2441/2441 [==============================] - 3s 1ms/step - loss: 0.1647\n",
            "Epoch 9/100\n",
            "2441/2441 [==============================] - 3s 1ms/step - loss: 0.1647\n",
            "Epoch 10/100\n",
            "2441/2441 [==============================] - 3s 1ms/step - loss: 0.1646\n",
            "Epoch 11/100\n",
            "2441/2441 [==============================] - 3s 1ms/step - loss: 0.1647\n",
            "Epoch 12/100\n",
            "2441/2441 [==============================] - 3s 1ms/step - loss: 0.1646\n",
            "Epoch 13/100\n",
            "2441/2441 [==============================] - 3s 1ms/step - loss: 0.1646\n",
            "Epoch 14/100\n",
            "2441/2441 [==============================] - 3s 1ms/step - loss: 0.1647\n",
            "Epoch 15/100\n",
            "2441/2441 [==============================] - 3s 1ms/step - loss: 0.1646\n",
            "Epoch 16/100\n",
            "2441/2441 [==============================] - 3s 1ms/step - loss: 0.1646\n",
            "Epoch 17/100\n",
            "2441/2441 [==============================] - 3s 1ms/step - loss: 0.1646\n",
            "Epoch 18/100\n",
            "2441/2441 [==============================] - 3s 1ms/step - loss: 0.1646\n",
            "Epoch 19/100\n",
            "2441/2441 [==============================] - 3s 1ms/step - loss: 0.1647\n",
            "Epoch 20/100\n",
            "2441/2441 [==============================] - 3s 1ms/step - loss: 0.1646\n",
            "Epoch 21/100\n",
            "2441/2441 [==============================] - 3s 1ms/step - loss: 0.1646\n",
            "Epoch 22/100\n",
            "2441/2441 [==============================] - 3s 1ms/step - loss: 0.1646\n",
            "Epoch 23/100\n",
            "2441/2441 [==============================] - 3s 1ms/step - loss: 0.1646\n",
            "Epoch 24/100\n",
            "2441/2441 [==============================] - 3s 1ms/step - loss: 0.1646\n",
            "Epoch 25/100\n",
            "2441/2441 [==============================] - 3s 1ms/step - loss: 0.1646\n",
            "Epoch 26/100\n",
            "2441/2441 [==============================] - 3s 1ms/step - loss: 0.1646\n",
            "Epoch 27/100\n",
            "2441/2441 [==============================] - 3s 1ms/step - loss: 0.1646\n",
            "Epoch 28/100\n",
            "2441/2441 [==============================] - 3s 1ms/step - loss: 0.1645\n",
            "Epoch 29/100\n",
            "2441/2441 [==============================] - 3s 1ms/step - loss: 0.1646\n",
            "Epoch 30/100\n",
            "2441/2441 [==============================] - 3s 1ms/step - loss: 0.1645\n",
            "Epoch 31/100\n",
            "2441/2441 [==============================] - 3s 1ms/step - loss: 0.1646\n",
            "Epoch 32/100\n",
            "2441/2441 [==============================] - 3s 1ms/step - loss: 0.1645\n",
            "Epoch 33/100\n",
            "2441/2441 [==============================] - 3s 1ms/step - loss: 0.1646\n",
            "Epoch 34/100\n",
            "2441/2441 [==============================] - 3s 1ms/step - loss: 0.1645\n",
            "Epoch 35/100\n",
            "2441/2441 [==============================] - 3s 1ms/step - loss: 0.1645\n",
            "Epoch 36/100\n",
            "2441/2441 [==============================] - 3s 1ms/step - loss: 0.1646\n",
            "Epoch 37/100\n",
            "2441/2441 [==============================] - 3s 1ms/step - loss: 0.1645\n",
            "Epoch 38/100\n",
            "2441/2441 [==============================] - 3s 1ms/step - loss: 0.1646\n",
            "Epoch 39/100\n",
            "2441/2441 [==============================] - 3s 1ms/step - loss: 0.1645\n",
            "Epoch 40/100\n",
            "2441/2441 [==============================] - 3s 1ms/step - loss: 0.1645\n",
            "Epoch 41/100\n",
            "2441/2441 [==============================] - 3s 1ms/step - loss: 0.1645\n",
            "Epoch 42/100\n",
            "2441/2441 [==============================] - 3s 1ms/step - loss: 0.1645\n",
            "Epoch 43/100\n",
            "2441/2441 [==============================] - 3s 1ms/step - loss: 0.1645\n",
            "Epoch 44/100\n",
            "2441/2441 [==============================] - 3s 1ms/step - loss: 0.1646\n",
            "Epoch 45/100\n",
            "2441/2441 [==============================] - 3s 1ms/step - loss: 0.1645\n",
            "Epoch 46/100\n",
            "2441/2441 [==============================] - 3s 1ms/step - loss: 0.1646\n",
            "Epoch 47/100\n",
            "2441/2441 [==============================] - 3s 1ms/step - loss: 0.1645\n",
            "Epoch 48/100\n",
            "2441/2441 [==============================] - 3s 1ms/step - loss: 0.1645\n",
            "Epoch 49/100\n",
            "2441/2441 [==============================] - 3s 1ms/step - loss: 0.1645\n",
            "Epoch 50/100\n",
            "2441/2441 [==============================] - 3s 1ms/step - loss: 0.1645\n",
            "Epoch 51/100\n",
            "2441/2441 [==============================] - 3s 1ms/step - loss: 0.1645\n",
            "Epoch 52/100\n",
            "2441/2441 [==============================] - 3s 1ms/step - loss: 0.1645\n",
            "Epoch 53/100\n",
            "2441/2441 [==============================] - 3s 1ms/step - loss: 0.1645\n",
            "Epoch 54/100\n",
            "2441/2441 [==============================] - 3s 1ms/step - loss: 0.1645\n",
            "Epoch 55/100\n",
            "2441/2441 [==============================] - 3s 1ms/step - loss: 0.1645\n",
            "Epoch 56/100\n",
            "2441/2441 [==============================] - 3s 1ms/step - loss: 0.1645\n",
            "Epoch 57/100\n",
            "2441/2441 [==============================] - 3s 1ms/step - loss: 0.1645\n",
            "Epoch 58/100\n",
            "2441/2441 [==============================] - 3s 1ms/step - loss: 0.1645\n",
            "Epoch 59/100\n",
            "2441/2441 [==============================] - 3s 1ms/step - loss: 0.1645\n",
            "Epoch 60/100\n",
            "2441/2441 [==============================] - 3s 1ms/step - loss: 0.1645\n",
            "Epoch 61/100\n",
            "2441/2441 [==============================] - 3s 1ms/step - loss: 0.1645\n",
            "Epoch 62/100\n",
            "2441/2441 [==============================] - 3s 1ms/step - loss: 0.1645\n",
            "Epoch 63/100\n",
            "2441/2441 [==============================] - 3s 1ms/step - loss: 0.1645\n",
            "Epoch 64/100\n",
            "2441/2441 [==============================] - 3s 1ms/step - loss: 0.1645\n",
            "Epoch 65/100\n",
            "2441/2441 [==============================] - 3s 1ms/step - loss: 0.1645\n",
            "Epoch 66/100\n",
            "2441/2441 [==============================] - 3s 1ms/step - loss: 0.1645\n",
            "Epoch 67/100\n",
            "2441/2441 [==============================] - 3s 1ms/step - loss: 0.1645\n",
            "Epoch 68/100\n",
            "2441/2441 [==============================] - 3s 1ms/step - loss: 0.1645\n",
            "Epoch 69/100\n",
            "2441/2441 [==============================] - 3s 1ms/step - loss: 0.1645\n",
            "Epoch 70/100\n",
            "2441/2441 [==============================] - 3s 1ms/step - loss: 0.1645\n",
            "Epoch 71/100\n",
            "2441/2441 [==============================] - 3s 1ms/step - loss: 0.1645\n",
            "Epoch 72/100\n",
            "2441/2441 [==============================] - 3s 1ms/step - loss: 0.1645\n",
            "Epoch 73/100\n",
            "2441/2441 [==============================] - 3s 1ms/step - loss: 0.1645\n",
            "Epoch 74/100\n",
            "2441/2441 [==============================] - 3s 1ms/step - loss: 0.1645\n",
            "Epoch 75/100\n",
            "2441/2441 [==============================] - 3s 1ms/step - loss: 0.1645\n",
            "Epoch 76/100\n",
            "2441/2441 [==============================] - 3s 1ms/step - loss: 0.1645\n",
            "Epoch 77/100\n",
            "2441/2441 [==============================] - 3s 1ms/step - loss: 0.1645\n",
            "Epoch 78/100\n",
            "2441/2441 [==============================] - 3s 1ms/step - loss: 0.1645\n",
            "Epoch 79/100\n",
            "2441/2441 [==============================] - 3s 1ms/step - loss: 0.1645\n",
            "Epoch 80/100\n",
            "2441/2441 [==============================] - 3s 1ms/step - loss: 0.1645\n",
            "Epoch 81/100\n",
            "2441/2441 [==============================] - 3s 1ms/step - loss: 0.1645\n",
            "Epoch 82/100\n",
            "2441/2441 [==============================] - 3s 1ms/step - loss: 0.1645\n",
            "Epoch 83/100\n",
            "2441/2441 [==============================] - 3s 1ms/step - loss: 0.1645\n",
            "Epoch 84/100\n",
            "2441/2441 [==============================] - 3s 1ms/step - loss: 0.1644\n",
            "Epoch 85/100\n",
            "2441/2441 [==============================] - 3s 1ms/step - loss: 0.1645\n",
            "Epoch 86/100\n",
            "2441/2441 [==============================] - 3s 1ms/step - loss: 0.1645\n",
            "Epoch 87/100\n",
            "2441/2441 [==============================] - 3s 1ms/step - loss: 0.1645\n",
            "Epoch 88/100\n",
            "2441/2441 [==============================] - 3s 1ms/step - loss: 0.1645\n",
            "Epoch 89/100\n",
            "2441/2441 [==============================] - 3s 1ms/step - loss: 0.1645\n",
            "Epoch 90/100\n",
            "2441/2441 [==============================] - 3s 1ms/step - loss: 0.1645\n",
            "Epoch 91/100\n",
            "2441/2441 [==============================] - 3s 1ms/step - loss: 0.1645\n",
            "Epoch 92/100\n",
            "2441/2441 [==============================] - 3s 1ms/step - loss: 0.1645\n",
            "Epoch 93/100\n",
            "2441/2441 [==============================] - 3s 1ms/step - loss: 0.1644\n",
            "Epoch 94/100\n",
            "2441/2441 [==============================] - 3s 1ms/step - loss: 0.1645\n",
            "Epoch 95/100\n",
            "2441/2441 [==============================] - 3s 1ms/step - loss: 0.1645\n",
            "Epoch 96/100\n",
            "2441/2441 [==============================] - 3s 1ms/step - loss: 0.1644\n",
            "Epoch 97/100\n",
            "2441/2441 [==============================] - 3s 1ms/step - loss: 0.1644\n",
            "Epoch 98/100\n",
            "2441/2441 [==============================] - 3s 1ms/step - loss: 0.1644\n",
            "Epoch 99/100\n",
            "2441/2441 [==============================] - 3s 1ms/step - loss: 0.1645\n",
            "Epoch 100/100\n",
            "2441/2441 [==============================] - 3s 1ms/step - loss: 0.1644\n"
          ]
        }
      ]
    },
    {
      "cell_type": "code",
      "metadata": {
        "colab": {
          "base_uri": "https://localhost:8080/",
          "height": 337
        },
        "id": "zYfoJ_DW8pu0",
        "outputId": "478f0c41-8a3f-4c2a-b04c-05edf705c0e0"
      },
      "source": [
        "loss_df = pd.DataFrame(history.history)\n",
        "\n",
        "# Plot loss vs epochs\n",
        "\n",
        "loss_df.plot(figsize=(10,5))"
      ],
      "execution_count": 74,
      "outputs": [
        {
          "output_type": "execute_result",
          "data": {
            "text/plain": [
              "<matplotlib.axes._subplots.AxesSubplot at 0x7f2801bbf3d0>"
            ]
          },
          "metadata": {},
          "execution_count": 74
        },
        {
          "output_type": "display_data",
          "data": {
            "image/png": "[encoded data removed]",
            "text/plain": [
              "<Figure size 720x360 with 1 Axes>"
            ]
          },
          "metadata": {
            "needs_background": "light"
          }
        }
      ]
    },
    {
      "cell_type": "code",
      "metadata": {
        "colab": {
          "base_uri": "https://localhost:8080/"
        },
        "id": "5PSIu7ho6cgM",
        "outputId": "746b3c41-4b50-4962-d2fb-e46e10d13fa2"
      },
      "source": [
        "model.evaluate(X_test, Y_test)"
      ],
      "execution_count": 76,
      "outputs": [
        {
          "output_type": "stream",
          "name": "stdout",
          "text": [
            "WARNING:tensorflow:Model was constructed with shape (None, 97606, 1) for input KerasTensor(type_spec=TensorSpec(shape=(None, 97606, 1), dtype=tf.float32, name='dense_input'), name='dense_input', description=\"created by layer 'dense_input'\"), but it was called on an input with incompatible shape (None, 1, 1).\n",
            "611/611 [==============================] - 1s 1ms/step - loss: 0.1673\n"
          ]
        },
        {
          "output_type": "execute_result",
          "data": {
            "text/plain": [
              "0.16729828715324402"
            ]
          },
          "metadata": {},
          "execution_count": 76
        }
      ]
    },
    {
      "cell_type": "code",
      "metadata": {
        "id": "KlQAkTVU-WeW"
      },
      "source": [
        ""
      ],
      "execution_count": null,
      "outputs": []
    },
    {
      "cell_type": "code",
      "metadata": {
        "colab": {
          "base_uri": "https://localhost:8080/"
        },
        "id": "AsZwFPZD6cjw",
        "outputId": "fab8063f-f575-4f70-998a-987c86725581"
      },
      "source": [
        "model.predict([[20]])"
      ],
      "execution_count": 85,
      "outputs": [
        {
          "output_type": "execute_result",
          "data": {
            "text/plain": [
              "array([[[0.5762468]]], dtype=float32)"
            ]
          },
          "metadata": {},
          "execution_count": 85
        }
      ]
    },
    {
      "cell_type": "code",
      "metadata": {
        "colab": {
          "base_uri": "https://localhost:8080/"
        },
        "id": "fwNb3V0n-5mv",
        "outputId": "7bea0b4b-00a0-40dc-8159-0f2339e5dcda"
      },
      "source": [
        "from sklearn.linear_model import LogisticRegression\n",
        "classifier=LogisticRegression(solver='liblinear')\n",
        "classifier.fit(X_train,Y_train)"
      ],
      "execution_count": 87,
      "outputs": [
        {
          "output_type": "execute_result",
          "data": {
            "text/plain": [
              "LogisticRegression(solver='liblinear')"
            ]
          },
          "metadata": {},
          "execution_count": 87
        }
      ]
    },
    {
      "cell_type": "code",
      "metadata": {
        "colab": {
          "base_uri": "https://localhost:8080/"
        },
        "id": "UZ9owMOy-5qS",
        "outputId": "66c7838a-a30b-43d5-bf26-8a22839c9715"
      },
      "source": [
        "from sklearn.model_selection import cross_validate\n",
        "results = cross_validate(classifier , X , Y , cv=5)\n",
        "print(results)"
      ],
      "execution_count": 88,
      "outputs": [
        {
          "output_type": "stream",
          "name": "stdout",
          "text": [
            "{'fit_time': array([0.06372094, 0.06161714, 0.06779861, 0.0599792 , 0.06111526]), 'score_time': array([0.00250149, 0.00222158, 0.00218296, 0.0022366 , 0.00233603]), 'test_score': array([0.81298023, 0.79463142, 0.79155781, 0.49341735, 0.32426617])}\n"
          ]
        }
      ]
    },
    {
      "cell_type": "code",
      "metadata": {
        "id": "6HEmSXVD-5s_"
      },
      "source": [
        "y_pred=classifier.predict(X_test)"
      ],
      "execution_count": 89,
      "outputs": []
    },
    {
      "cell_type": "code",
      "metadata": {
        "colab": {
          "base_uri": "https://localhost:8080/"
        },
        "id": "pUHOstPi_eep",
        "outputId": "325b259b-ff6c-44ac-cda6-ca1c3b4e9937"
      },
      "source": [
        "from sklearn.metrics import accuracy_score\n",
        "accuracy_score(y_pred,Y_test)"
      ],
      "execution_count": 91,
      "outputs": [
        {
          "output_type": "execute_result",
          "data": {
            "text/plain": [
              "0.7683126728818769"
            ]
          },
          "metadata": {},
          "execution_count": 91
        }
      ]
    },
    {
      "cell_type": "code",
      "metadata": {
        "colab": {
          "base_uri": "https://localhost:8080/"
        },
        "id": "ly8Cj4U1_yRJ",
        "outputId": "04119bfc-908b-4975-c33d-328f2693e9b2"
      },
      "source": [
        "from sklearn.svm import SVC\n",
        "classifier2=SVC(gamma='auto')\n",
        "classifier2.fit(X_train,Y_train)"
      ],
      "execution_count": 92,
      "outputs": [
        {
          "output_type": "execute_result",
          "data": {
            "text/plain": [
              "SVC(gamma='auto')"
            ]
          },
          "metadata": {},
          "execution_count": 92
        }
      ]
    },
    {
      "cell_type": "code",
      "metadata": {
        "id": "pfj8MI3e_yVF"
      },
      "source": [
        "SVM_result=cross_validate(classifier2,X,Y,cv=5)\n",
        "SVM_result"
      ],
      "execution_count": null,
      "outputs": []
    },
    {
      "cell_type": "code",
      "metadata": {
        "id": "ooU9TT7mAovb"
      },
      "source": [
        "y_pred_classifier2 = classifier2.predict(X_test)\n",
        "from sklearn.metrics import accuracy_score\n",
        "accuracy_score(y_pred_classifier2,Y_test)\n"
      ],
      "execution_count": null,
      "outputs": []
    },
    {
      "cell_type": "code",
      "metadata": {
        "id": "UBbOqcixAo8g"
      },
      "source": [
        ""
      ],
      "execution_count": null,
      "outputs": []
    },
    {
      "cell_type": "code",
      "metadata": {
        "id": "pN7FVOjo_eiE"
      },
      "source": [
        ""
      ],
      "execution_count": null,
      "outputs": []
    }
  ]
}